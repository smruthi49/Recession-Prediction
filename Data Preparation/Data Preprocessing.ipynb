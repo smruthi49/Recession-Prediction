{
 "cells": [
  {
   "cell_type": "markdown",
   "id": "f03bedd1",
   "metadata": {},
   "source": [
    "## Importing Libraries"
   ]
  },
  {
   "cell_type": "code",
   "execution_count": 3,
   "id": "7da49625",
   "metadata": {},
   "outputs": [],
   "source": [
    "import warnings\n",
    "warnings.filterwarnings(\"ignore\")\n",
    "import pandas as pd\n",
    "import numpy as np\n",
    "import matplotlib.pyplot as plt\n",
    "import seaborn as sns"
   ]
  },
  {
   "cell_type": "markdown",
   "id": "1c670249",
   "metadata": {},
   "source": [
    "## Importing Data"
   ]
  },
  {
   "cell_type": "code",
   "execution_count": 26,
   "id": "f77c7640",
   "metadata": {},
   "outputs": [],
   "source": [
    "df1 = pd.read_csv(\"Consumer Price Index.csv\")\n",
    "df2 = pd.read_csv(\"Gross Domestic Product by Expenditure.csv\")\n",
    "df3 = pd.read_csv(\"Total Manufacturing Production for India .csv\")\n",
    "df4 = pd.read_csv(\"Exports of goods and services.csv\")"
   ]
  },
  {
   "cell_type": "markdown",
   "id": "11684765",
   "metadata": {},
   "source": [
    "#### Consumer Price Index"
   ]
  },
  {
   "cell_type": "code",
   "execution_count": 27,
   "id": "56f1e6f1",
   "metadata": {},
   "outputs": [
    {
     "data": {
      "text/html": [
       "<div>\n",
       "<style scoped>\n",
       "    .dataframe tbody tr th:only-of-type {\n",
       "        vertical-align: middle;\n",
       "    }\n",
       "\n",
       "    .dataframe tbody tr th {\n",
       "        vertical-align: top;\n",
       "    }\n",
       "\n",
       "    .dataframe thead th {\n",
       "        text-align: right;\n",
       "    }\n",
       "</style>\n",
       "<table border=\"1\" class=\"dataframe\">\n",
       "  <thead>\n",
       "    <tr style=\"text-align: right;\">\n",
       "      <th></th>\n",
       "      <th>DATE</th>\n",
       "      <th>CPALTT01INM659N</th>\n",
       "    </tr>\n",
       "  </thead>\n",
       "  <tbody>\n",
       "    <tr>\n",
       "      <th>0</th>\n",
       "      <td>1960-01-01</td>\n",
       "      <td>4.298643</td>\n",
       "    </tr>\n",
       "    <tr>\n",
       "      <th>1</th>\n",
       "      <td>1960-02-01</td>\n",
       "      <td>3.363229</td>\n",
       "    </tr>\n",
       "    <tr>\n",
       "      <th>2</th>\n",
       "      <td>1960-03-01</td>\n",
       "      <td>3.393665</td>\n",
       "    </tr>\n",
       "    <tr>\n",
       "      <th>3</th>\n",
       "      <td>1960-04-01</td>\n",
       "      <td>4.298643</td>\n",
       "    </tr>\n",
       "    <tr>\n",
       "      <th>4</th>\n",
       "      <td>1960-05-01</td>\n",
       "      <td>3.340757</td>\n",
       "    </tr>\n",
       "  </tbody>\n",
       "</table>\n",
       "</div>"
      ],
      "text/plain": [
       "         DATE  CPALTT01INM659N\n",
       "0  1960-01-01         4.298643\n",
       "1  1960-02-01         3.363229\n",
       "2  1960-03-01         3.393665\n",
       "3  1960-04-01         4.298643\n",
       "4  1960-05-01         3.340757"
      ]
     },
     "execution_count": 27,
     "metadata": {},
     "output_type": "execute_result"
    }
   ],
   "source": [
    "df1.head()"
   ]
  },
  {
   "cell_type": "markdown",
   "id": "d5fc06f0",
   "metadata": {},
   "source": [
    "#### Gross Domestic Product by Expenditure"
   ]
  },
  {
   "cell_type": "code",
   "execution_count": 28,
   "id": "44814fe7",
   "metadata": {},
   "outputs": [
    {
     "data": {
      "text/html": [
       "<div>\n",
       "<style scoped>\n",
       "    .dataframe tbody tr th:only-of-type {\n",
       "        vertical-align: middle;\n",
       "    }\n",
       "\n",
       "    .dataframe tbody tr th {\n",
       "        vertical-align: top;\n",
       "    }\n",
       "\n",
       "    .dataframe thead th {\n",
       "        text-align: right;\n",
       "    }\n",
       "</style>\n",
       "<table border=\"1\" class=\"dataframe\">\n",
       "  <thead>\n",
       "    <tr style=\"text-align: right;\">\n",
       "      <th></th>\n",
       "      <th>DATE</th>\n",
       "      <th>NAEXKP07INQ652S</th>\n",
       "    </tr>\n",
       "  </thead>\n",
       "  <tbody>\n",
       "    <tr>\n",
       "      <th>0</th>\n",
       "      <td>1996-04-01</td>\n",
       "      <td>7.702001e+11</td>\n",
       "    </tr>\n",
       "    <tr>\n",
       "      <th>1</th>\n",
       "      <td>1996-07-01</td>\n",
       "      <td>9.177607e+11</td>\n",
       "    </tr>\n",
       "    <tr>\n",
       "      <th>2</th>\n",
       "      <td>1996-10-01</td>\n",
       "      <td>9.084626e+11</td>\n",
       "    </tr>\n",
       "    <tr>\n",
       "      <th>3</th>\n",
       "      <td>1997-01-01</td>\n",
       "      <td>9.422047e+11</td>\n",
       "    </tr>\n",
       "    <tr>\n",
       "      <th>4</th>\n",
       "      <td>1997-04-01</td>\n",
       "      <td>9.156944e+11</td>\n",
       "    </tr>\n",
       "  </tbody>\n",
       "</table>\n",
       "</div>"
      ],
      "text/plain": [
       "         DATE  NAEXKP07INQ652S\n",
       "0  1996-04-01     7.702001e+11\n",
       "1  1996-07-01     9.177607e+11\n",
       "2  1996-10-01     9.084626e+11\n",
       "3  1997-01-01     9.422047e+11\n",
       "4  1997-04-01     9.156944e+11"
      ]
     },
     "execution_count": 28,
     "metadata": {},
     "output_type": "execute_result"
    }
   ],
   "source": [
    "df2.head()"
   ]
  },
  {
   "cell_type": "markdown",
   "id": "b0a37229",
   "metadata": {},
   "source": [
    "#### Total Manufacturing Production for India"
   ]
  },
  {
   "cell_type": "code",
   "execution_count": 29,
   "id": "4fea2760",
   "metadata": {},
   "outputs": [
    {
     "data": {
      "text/html": [
       "<div>\n",
       "<style scoped>\n",
       "    .dataframe tbody tr th:only-of-type {\n",
       "        vertical-align: middle;\n",
       "    }\n",
       "\n",
       "    .dataframe tbody tr th {\n",
       "        vertical-align: top;\n",
       "    }\n",
       "\n",
       "    .dataframe thead th {\n",
       "        text-align: right;\n",
       "    }\n",
       "</style>\n",
       "<table border=\"1\" class=\"dataframe\">\n",
       "  <thead>\n",
       "    <tr style=\"text-align: right;\">\n",
       "      <th></th>\n",
       "      <th>DATE</th>\n",
       "      <th>PRMNTO01INQ657S</th>\n",
       "    </tr>\n",
       "  </thead>\n",
       "  <tbody>\n",
       "    <tr>\n",
       "      <th>0</th>\n",
       "      <td>1994-07-01</td>\n",
       "      <td>3.226083</td>\n",
       "    </tr>\n",
       "    <tr>\n",
       "      <th>1</th>\n",
       "      <td>1994-10-01</td>\n",
       "      <td>3.335921</td>\n",
       "    </tr>\n",
       "    <tr>\n",
       "      <th>2</th>\n",
       "      <td>1995-01-01</td>\n",
       "      <td>3.577195</td>\n",
       "    </tr>\n",
       "    <tr>\n",
       "      <th>3</th>\n",
       "      <td>1995-04-01</td>\n",
       "      <td>1.932583</td>\n",
       "    </tr>\n",
       "    <tr>\n",
       "      <th>4</th>\n",
       "      <td>1995-07-01</td>\n",
       "      <td>5.203285</td>\n",
       "    </tr>\n",
       "  </tbody>\n",
       "</table>\n",
       "</div>"
      ],
      "text/plain": [
       "         DATE  PRMNTO01INQ657S\n",
       "0  1994-07-01         3.226083\n",
       "1  1994-10-01         3.335921\n",
       "2  1995-01-01         3.577195\n",
       "3  1995-04-01         1.932583\n",
       "4  1995-07-01         5.203285"
      ]
     },
     "execution_count": 29,
     "metadata": {},
     "output_type": "execute_result"
    }
   ],
   "source": [
    "df3.head()"
   ]
  },
  {
   "cell_type": "markdown",
   "id": "b6308df9",
   "metadata": {},
   "source": [
    "#### Exports of goods and services"
   ]
  },
  {
   "cell_type": "code",
   "execution_count": 30,
   "id": "6ece9848",
   "metadata": {},
   "outputs": [
    {
     "data": {
      "text/html": [
       "<div>\n",
       "<style scoped>\n",
       "    .dataframe tbody tr th:only-of-type {\n",
       "        vertical-align: middle;\n",
       "    }\n",
       "\n",
       "    .dataframe tbody tr th {\n",
       "        vertical-align: top;\n",
       "    }\n",
       "\n",
       "    .dataframe thead th {\n",
       "        text-align: right;\n",
       "    }\n",
       "</style>\n",
       "<table border=\"1\" class=\"dataframe\">\n",
       "  <thead>\n",
       "    <tr style=\"text-align: right;\">\n",
       "      <th></th>\n",
       "      <th>DATE</th>\n",
       "      <th>INDEXPORTQDSMEI</th>\n",
       "    </tr>\n",
       "  </thead>\n",
       "  <tbody>\n",
       "    <tr>\n",
       "      <th>0</th>\n",
       "      <td>1996-04-01</td>\n",
       "      <td>3.620092e+11</td>\n",
       "    </tr>\n",
       "    <tr>\n",
       "      <th>1</th>\n",
       "      <td>1996-07-01</td>\n",
       "      <td>3.614551e+11</td>\n",
       "    </tr>\n",
       "    <tr>\n",
       "      <th>2</th>\n",
       "      <td>1996-10-01</td>\n",
       "      <td>3.623685e+11</td>\n",
       "    </tr>\n",
       "    <tr>\n",
       "      <th>3</th>\n",
       "      <td>1997-01-01</td>\n",
       "      <td>3.734178e+11</td>\n",
       "    </tr>\n",
       "    <tr>\n",
       "      <th>4</th>\n",
       "      <td>1997-04-01</td>\n",
       "      <td>4.065199e+11</td>\n",
       "    </tr>\n",
       "  </tbody>\n",
       "</table>\n",
       "</div>"
      ],
      "text/plain": [
       "         DATE  INDEXPORTQDSMEI\n",
       "0  1996-04-01     3.620092e+11\n",
       "1  1996-07-01     3.614551e+11\n",
       "2  1996-10-01     3.623685e+11\n",
       "3  1997-01-01     3.734178e+11\n",
       "4  1997-04-01     4.065199e+11"
      ]
     },
     "execution_count": 30,
     "metadata": {},
     "output_type": "execute_result"
    }
   ],
   "source": [
    "df4.head()"
   ]
  },
  {
   "cell_type": "markdown",
   "id": "7dc54333",
   "metadata": {},
   "source": [
    "Making all datasets start from the same date."
   ]
  },
  {
   "cell_type": "code",
   "execution_count": 31,
   "id": "aa6f9089",
   "metadata": {},
   "outputs": [],
   "source": [
    "df1 = df1[df1.DATE > '1996-04-01']\n",
    "df2 = df2[df2.DATE > '1996-04-01']\n",
    "df3 = df3[df3.DATE > '1996-04-01']\n",
    "df4 = df4[df4.DATE > '1996-04-01']"
   ]
  },
  {
   "cell_type": "markdown",
   "id": "c3d268c6",
   "metadata": {},
   "source": [
    "Converting DATE to datetime object"
   ]
  },
  {
   "cell_type": "code",
   "execution_count": 32,
   "id": "9572c58a",
   "metadata": {},
   "outputs": [],
   "source": [
    "df1['DATE'] = pd.to_datetime(df1['DATE'])\n",
    "df2['DATE'] = pd.to_datetime(df2['DATE'])\n",
    "df3['DATE'] = pd.to_datetime(df3['DATE'])\n",
    "df4['DATE'] = pd.to_datetime(df4['DATE'])"
   ]
  },
  {
   "cell_type": "markdown",
   "id": "c1b2afbe",
   "metadata": {},
   "source": [
    "Converting Date to Index"
   ]
  },
  {
   "cell_type": "code",
   "execution_count": 33,
   "id": "cc9284c7",
   "metadata": {},
   "outputs": [],
   "source": [
    "df1.set_index('DATE',inplace=True)\n",
    "df2.set_index('DATE',inplace=True)\n",
    "df3.set_index('DATE',inplace=True)\n",
    "df4.set_index('DATE',inplace=True)"
   ]
  },
  {
   "cell_type": "markdown",
   "id": "78a49c52",
   "metadata": {},
   "source": [
    "Converting Monthly data to Quarterly data"
   ]
  },
  {
   "cell_type": "code",
   "execution_count": 34,
   "id": "8025f025",
   "metadata": {},
   "outputs": [],
   "source": [
    "df1 = df1.resample('Q',closed='right',label='right',\n",
    "             loffset=pd.DateOffset(days=1,) ).mean()"
   ]
  },
  {
   "cell_type": "markdown",
   "id": "5938f58d",
   "metadata": {},
   "source": [
    "Creating new DataFrame"
   ]
  },
  {
   "cell_type": "code",
   "execution_count": 36,
   "id": "344a1900",
   "metadata": {},
   "outputs": [],
   "source": [
    "dates = pd.date_range(start='1996-07-01', end='2023-01-01', freq='QS')"
   ]
  },
  {
   "cell_type": "code",
   "execution_count": 37,
   "id": "64385d0c",
   "metadata": {},
   "outputs": [],
   "source": [
    "data = pd.DataFrame(index = dates)"
   ]
  },
  {
   "cell_type": "code",
   "execution_count": 38,
   "id": "cab6c272",
   "metadata": {},
   "outputs": [],
   "source": [
    "data['GDP'] = df2.iloc[:,-1]\n",
    "data['Exports'] = df4.iloc[:,-1]\n",
    "data['Manufacturing'] = df3.iloc[:,-1]\n",
    "data['CPI'] = df1.iloc[:,-1]"
   ]
  },
  {
   "cell_type": "code",
   "execution_count": 39,
   "id": "080b80fd",
   "metadata": {},
   "outputs": [
    {
     "data": {
      "text/html": [
       "<div>\n",
       "<style scoped>\n",
       "    .dataframe tbody tr th:only-of-type {\n",
       "        vertical-align: middle;\n",
       "    }\n",
       "\n",
       "    .dataframe tbody tr th {\n",
       "        vertical-align: top;\n",
       "    }\n",
       "\n",
       "    .dataframe thead th {\n",
       "        text-align: right;\n",
       "    }\n",
       "</style>\n",
       "<table border=\"1\" class=\"dataframe\">\n",
       "  <thead>\n",
       "    <tr style=\"text-align: right;\">\n",
       "      <th></th>\n",
       "      <th>GDP</th>\n",
       "      <th>Exports</th>\n",
       "      <th>Manufacturing</th>\n",
       "      <th>CPI</th>\n",
       "    </tr>\n",
       "  </thead>\n",
       "  <tbody>\n",
       "    <tr>\n",
       "      <th>1996-07-01</th>\n",
       "      <td>9.177607e+11</td>\n",
       "      <td>3.614551e+11</td>\n",
       "      <td>-0.590751</td>\n",
       "      <td>9.078431</td>\n",
       "    </tr>\n",
       "    <tr>\n",
       "      <th>1996-10-01</th>\n",
       "      <td>9.084626e+11</td>\n",
       "      <td>3.623685e+11</td>\n",
       "      <td>0.197451</td>\n",
       "      <td>8.570983</td>\n",
       "    </tr>\n",
       "    <tr>\n",
       "      <th>1997-01-01</th>\n",
       "      <td>9.422047e+11</td>\n",
       "      <td>3.734178e+11</td>\n",
       "      <td>2.288496</td>\n",
       "      <td>9.198929</td>\n",
       "    </tr>\n",
       "    <tr>\n",
       "      <th>1997-04-01</th>\n",
       "      <td>9.156944e+11</td>\n",
       "      <td>4.065199e+11</td>\n",
       "      <td>2.771743</td>\n",
       "      <td>10.633984</td>\n",
       "    </tr>\n",
       "    <tr>\n",
       "      <th>1997-07-01</th>\n",
       "      <td>9.014062e+11</td>\n",
       "      <td>4.040485e+11</td>\n",
       "      <td>1.762883</td>\n",
       "      <td>7.727646</td>\n",
       "    </tr>\n",
       "  </tbody>\n",
       "</table>\n",
       "</div>"
      ],
      "text/plain": [
       "                     GDP       Exports  Manufacturing        CPI\n",
       "1996-07-01  9.177607e+11  3.614551e+11      -0.590751   9.078431\n",
       "1996-10-01  9.084626e+11  3.623685e+11       0.197451   8.570983\n",
       "1997-01-01  9.422047e+11  3.734178e+11       2.288496   9.198929\n",
       "1997-04-01  9.156944e+11  4.065199e+11       2.771743  10.633984\n",
       "1997-07-01  9.014062e+11  4.040485e+11       1.762883   7.727646"
      ]
     },
     "execution_count": 39,
     "metadata": {},
     "output_type": "execute_result"
    }
   ],
   "source": [
    "data.head()"
   ]
  },
  {
   "cell_type": "code",
   "execution_count": 40,
   "id": "23320164",
   "metadata": {},
   "outputs": [
    {
     "data": {
      "text/plain": [
       "GDP              0\n",
       "Exports          0\n",
       "Manufacturing    0\n",
       "CPI              0\n",
       "dtype: int64"
      ]
     },
     "execution_count": 40,
     "metadata": {},
     "output_type": "execute_result"
    }
   ],
   "source": [
    "data.isnull().sum()"
   ]
  },
  {
   "cell_type": "markdown",
   "id": "1b5f2aa3",
   "metadata": {},
   "source": [
    "No null values in the final data"
   ]
  },
  {
   "cell_type": "code",
   "execution_count": 41,
   "id": "1364c4d0",
   "metadata": {},
   "outputs": [
    {
     "data": {
      "text/plain": [
       "(107, 4)"
      ]
     },
     "execution_count": 41,
     "metadata": {},
     "output_type": "execute_result"
    }
   ],
   "source": [
    "data.shape"
   ]
  },
  {
   "cell_type": "markdown",
   "id": "54d89ada",
   "metadata": {},
   "source": [
    "The data has 107 data points. For every quarter from July 1996 to January 2023. It has 4 features. \n",
    "- Gross Domestic Product\n",
    "- Exports of goods and services in India\n",
    "- Manufacturing Production for India\n",
    "- Consumer Price Index"
   ]
  },
  {
   "cell_type": "markdown",
   "id": "6217bb73",
   "metadata": {},
   "source": [
    "Saving the data to a separate CSV file."
   ]
  },
  {
   "cell_type": "code",
   "execution_count": 42,
   "id": "7f931335",
   "metadata": {},
   "outputs": [],
   "source": [
    "data.to_csv(\"recession_data.csv\")"
   ]
  }
 ],
 "metadata": {
  "kernelspec": {
   "display_name": "Python 3 (ipykernel)",
   "language": "python",
   "name": "python3"
  },
  "language_info": {
   "codemirror_mode": {
    "name": "ipython",
    "version": 3
   },
   "file_extension": ".py",
   "mimetype": "text/x-python",
   "name": "python",
   "nbconvert_exporter": "python",
   "pygments_lexer": "ipython3",
   "version": "3.7.16"
  }
 },
 "nbformat": 4,
 "nbformat_minor": 5
}
